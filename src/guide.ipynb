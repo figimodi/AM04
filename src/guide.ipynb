{
 "cells": [
  {
   "cell_type": "markdown",
   "metadata": {},
   "source": [
    "### Clear all previous masks and images"
   ]
  },
  {
   "cell_type": "code",
   "execution_count": null,
   "metadata": {},
   "outputs": [],
   "source": [
    "!python clear_old_generations.py"
   ]
  },
  {
   "cell_type": "markdown",
   "metadata": {},
   "source": [
    "### Generate Spattering masks"
   ]
  },
  {
   "cell_type": "code",
   "execution_count": 3,
   "metadata": {},
   "outputs": [
    {
     "name": "stdout",
     "output_type": "stream",
     "text": [
      "Old spattering generations deleted!\n",
      "Generating spattering images...\n",
      "0/10\n",
      "1/10\n",
      "2/10\n",
      "3/10\n",
      "4/10\n",
      "5/10\n",
      "6/10\n",
      "7/10\n",
      "8/10\n",
      "9/10\n",
      "10/10\n",
      "Done!\n"
     ]
    }
   ],
   "source": [
    "MIN_DIST = 0\n",
    "MAX_POINTS = 400\n",
    "MAX_SPREAD = 10\n",
    "DARKEST_GRAY = 160\n",
    "LIGHTEST_GRAY = 170\n",
    "\n",
    "!python generate_spattering_images.py \\\n",
    "--min_dist {MIN_DIST} \\\n",
    "--max_points {MAX_POINTS} \\\n",
    "--max_spread {MAX_SPREAD} \\\n",
    "--darkest_gray {DARKEST_GRAY} \\\n",
    "--lightest_gray {LIGHTEST_GRAY}"
   ]
  },
  {
   "cell_type": "markdown",
   "metadata": {},
   "source": [
    "### Generate different combination of defects with color manipulation"
   ]
  },
  {
   "cell_type": "code",
   "execution_count": 4,
   "metadata": {},
   "outputs": [
    {
     "name": "stdout",
     "output_type": "stream",
     "text": [
      "Old color transferred images deleted!\n",
      "Generating color transferred images...\n",
      "0/57\n",
      "1/57\n",
      "2/57\n",
      "3/57\n",
      "4/57\n",
      "5/57\n",
      "6/57\n",
      "7/57\n",
      "8/57\n",
      "10/57\n",
      "11/57\n",
      "12/57\n",
      "13/57\n",
      "14/57\n",
      "15/57\n",
      "16/57\n",
      "18/57\n",
      "19/57\n",
      "20/57\n",
      "21/57\n",
      "22/57\n",
      "23/57\n",
      "24/57\n",
      "25/57\n",
      "27/57\n",
      "28/57\n",
      "29/57\n",
      "30/57\n",
      "31/57\n",
      "32/57\n",
      "33/57\n",
      "34/57\n",
      "37/57\n",
      "38/57\n",
      "39/57\n",
      "40/57\n",
      "41/57\n",
      "43/57\n",
      "44/57\n",
      "45/57\n",
      "46/57\n",
      "47/57\n",
      "48/57\n",
      "49/57\n",
      "50/57\n",
      "51/57\n",
      "52/57\n",
      "53/57\n",
      "54/57\n",
      "55/57\n",
      "56/57\n",
      "57/57\n",
      "\n",
      "Done!\n"
     ]
    }
   ],
   "source": [
    "!python generate_color_transferred_images.py"
   ]
  },
  {
   "cell_type": "markdown",
   "metadata": {},
   "source": [
    "### Harmonization training of tsai network"
   ]
  },
  {
   "cell_type": "code",
   "execution_count": null,
   "metadata": {},
   "outputs": [],
   "source": [
    "!python train_harmonization.py \\\n",
    "--config configs/harmonization.yaml"
   ]
  },
  {
   "cell_type": "markdown",
   "metadata": {},
   "source": [
    "### Generate new synthetic images with defects"
   ]
  },
  {
   "cell_type": "code",
   "execution_count": null,
   "metadata": {},
   "outputs": [],
   "source": [
    "N_SAMPLES = 1000\n",
    "\n",
    "!python generate_synthetic_images.py \\\n",
    "--tot_samples {N_SAMPLES}"
   ]
  },
  {
   "cell_type": "markdown",
   "metadata": {},
   "source": [
    "### Harmonize the synthetic images previously generated"
   ]
  },
  {
   "cell_type": "code",
   "execution_count": null,
   "metadata": {},
   "outputs": [],
   "source": [
    "MODEL = 'log/train_harmonization/version_1/epoch=045_val_loss=0.00002655.ckpt'\n",
    "\n",
    "!python harmonize_synthetic_images.py \\\n",
    "--config configs/harmonization_synthetic.yaml \\\n",
    "--only_test --pretrained {MODEL}"
   ]
  },
  {
   "cell_type": "markdown",
   "metadata": {},
   "source": [
    "### Train the classifier with ResNet"
   ]
  },
  {
   "cell_type": "code",
   "execution_count": null,
   "metadata": {},
   "outputs": [],
   "source": [
    "# You can chose the ResNet type by modifying the parameter model.name inside resnet.yaml\n",
    "# Available ResNets are ResNet18, ResNet34, ResNet50, ResNet101, ResNet152\n",
    "# IMPORTANT!: The name should be all lowercase, i.e. resnet18, resnet34, ...\n",
    "\n",
    "!python train_classifier.py \\\n",
    "--config configs/resnet.yaml"
   ]
  },
  {
   "cell_type": "markdown",
   "metadata": {},
   "source": [
    "### See results using Tensorboard"
   ]
  },
  {
   "cell_type": "code",
   "execution_count": null,
   "metadata": {},
   "outputs": [],
   "source": [
    "PORT = 21000\n",
    "\n",
    "!tensorboard --logdir log --port {PORT}"
   ]
  }
 ],
 "metadata": {
  "kernelspec": {
   "display_name": "Python 3",
   "language": "python",
   "name": "python3"
  },
  "language_info": {
   "codemirror_mode": {
    "name": "ipython",
    "version": 3
   },
   "file_extension": ".py",
   "mimetype": "text/x-python",
   "name": "python",
   "nbconvert_exporter": "python",
   "pygments_lexer": "ipython3",
   "version": "3.12.3"
  }
 },
 "nbformat": 4,
 "nbformat_minor": 2
}
