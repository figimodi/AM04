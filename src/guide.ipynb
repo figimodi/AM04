{
 "cells": [
  {
   "cell_type": "markdown",
   "metadata": {},
   "source": [
    "### Clear all previous masks and images"
   ]
  },
  {
   "cell_type": "code",
   "execution_count": null,
   "metadata": {},
   "outputs": [],
   "source": [
    "!python clear_old_generations.py"
   ]
  },
  {
   "cell_type": "markdown",
   "metadata": {},
   "source": [
    "### Generate Spattering masks"
   ]
  },
  {
   "cell_type": "code",
   "execution_count": null,
   "metadata": {},
   "outputs": [],
   "source": [
    "MIN_DIST = 0\n",
    "MAX_POINTS = 400\n",
    "MAX_SPREAD = 10\n",
    "DARKEST_GRAY = 160\n",
    "LIGHTEST_GRAY = 170\n",
    "\n",
    "!python generate_spattering_images.py \\\n",
    "--min_dist {MIN_DIST} \\\n",
    "--max_points {MAX_POINTS} \\\n",
    "--max_spread {MAX_SPREAD} \\\n",
    "--darkest_gray {DARKEST_GRAY} \\\n",
    "--lightest_gray {LIGHTEST_GRAY}"
   ]
  },
  {
   "cell_type": "markdown",
   "metadata": {},
   "source": [
    "### Generate different combination of defects with color manipulation"
   ]
  },
  {
   "cell_type": "code",
   "execution_count": null,
   "metadata": {},
   "outputs": [],
   "source": [
    "!python generate_color_transferred_images.py"
   ]
  },
  {
   "cell_type": "markdown",
   "metadata": {},
   "source": [
    "### Harmonization training of tsai network"
   ]
  },
  {
   "cell_type": "code",
   "execution_count": null,
   "metadata": {},
   "outputs": [],
   "source": [
    "!python.exe train_harmonization.py \\\n",
    "--config configs/harmonization.yaml"
   ]
  },
  {
   "cell_type": "markdown",
   "metadata": {},
   "source": [
    "### Generate new synthetic images with defects"
   ]
  },
  {
   "cell_type": "code",
   "execution_count": null,
   "metadata": {},
   "outputs": [],
   "source": [
    "N_SAMPLES = 1000\n",
    "\n",
    "!python generate_synthetic_images.py \\\n",
    "--tot_samples {N_SAMPLES}"
   ]
  },
  {
   "cell_type": "markdown",
   "metadata": {},
   "source": [
    "### Harmonize the synthetic images previously generated"
   ]
  },
  {
   "cell_type": "code",
   "execution_count": null,
   "metadata": {},
   "outputs": [],
   "source": [
    "MODEL = 'log/train_harmonization/version_1/epoch=045_val_loss=0.00002655.ckpt'\n",
    "\n",
    "!python harmonize_synthetic_images.py \\\n",
    "--config configs/harmonization_synthetic.yaml \\\n",
    "--only_test --pretrained {MODEL}"
   ]
  },
  {
   "cell_type": "markdown",
   "metadata": {},
   "source": [
    "### Train the classifier with ResNet"
   ]
  },
  {
   "cell_type": "code",
   "execution_count": null,
   "metadata": {},
   "outputs": [],
   "source": [
    "# You can chose the ResNet type by modifying the parameter model.name inside resnet.yaml\n",
    "# Available ResNets are ResNet18, ResNet34, ResNet50, ResNet101, ResNet152\n",
    "# IMPORTANT!: The name should be all lowercase, i.e. resnet18, resnet34, ...\n",
    "\n",
    "!python train_classifier.py \\\n",
    "--config configs/resnet.yaml"
   ]
  },
  {
   "cell_type": "markdown",
   "metadata": {},
   "source": [
    "### See results using Tensorboard"
   ]
  },
  {
   "cell_type": "code",
   "execution_count": null,
   "metadata": {},
   "outputs": [],
   "source": [
    "PORT = 21000\n",
    "\n",
    "!tensorboard --logdir log --port {PORT}"
   ]
  }
 ],
 "metadata": {
  "kernelspec": {
   "display_name": "Python 3",
   "language": "python",
   "name": "python3"
  },
  "language_info": {
   "codemirror_mode": {
    "name": "ipython",
    "version": 3
   },
   "file_extension": ".py",
   "mimetype": "text/x-python",
   "name": "python",
   "nbconvert_exporter": "python",
   "pygments_lexer": "ipython3",
   "version": "3.12.3"
  }
 },
 "nbformat": 4,
 "nbformat_minor": 2
}
